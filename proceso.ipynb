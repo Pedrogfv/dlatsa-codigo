{
 "cells": [
  {
   "cell_type": "markdown",
   "metadata": {},
   "source": [
    "Importamos ibliotecas Pertinentes"
   ]
  },
  {
   "cell_type": "code",
   "execution_count": 27,
   "metadata": {},
   "outputs": [],
   "source": [
    "import pandas as pd\n",
    "from openpyxl import load_workbook\n",
    "import numpy as np"
   ]
  },
  {
   "cell_type": "markdown",
   "metadata": {},
   "source": [
    "Cargamos archivos para crear los DataFrames"
   ]
  },
  {
   "cell_type": "code",
   "execution_count": 28,
   "metadata": {},
   "outputs": [],
   "source": [
    "negocio_bd_GR8 = pd.read_excel('bd_negocio_GR8.xlsx')\n",
    "bd_negocio_DISTR = pd.read_excel('bd_negocio_DISTR.xlsx')\n",
    "bd_negocio_DELATSA = pd.read_excel('bd_negocio_DELATSA.xlsx')\n",
    "\n",
    "bd_1 = 'bd_competencia.xlsx'\n",
    "compe_1 = pd.read_excel(bd_1, sheet_name = 'dia_1')\n",
    "compe_2 = pd.read_excel(bd_1, sheet_name = 'dia_2')\n",
    "ref = pd.read_excel('referencias.xlsx')\n",
    "prom = pd.read_excel('costo_promedio.xlsx.')\n"
   ]
  },
  {
   "cell_type": "code",
   "execution_count": 29,
   "metadata": {},
   "outputs": [],
   "source": [
    "# Parámetros de Mercado Libre\n",
    "iva = 1.16\n",
    "isr = 1.13\n",
    "envio = 90"
   ]
  },
  {
   "cell_type": "markdown",
   "metadata": {},
   "source": [
    "Transformaciones y Limpieza"
   ]
  },
  {
   "cell_type": "markdown",
   "metadata": {},
   "source": [
    "Comenzamos con el DataFrame de las Bases de Datos del negocio"
   ]
  },
  {
   "cell_type": "code",
   "execution_count": 30,
   "metadata": {},
   "outputs": [],
   "source": [
    "#Transformacion\n",
    "#Renombrar la columnas para que coincida con el nombre de las columnas del archivo de bd_competencia\n",
    "negocio_bd_GR8.rename(columns={\"ID\": \"Id\", \"TipoPublicacion(Clasica,Premium)\": \"Tipo de Publicación\", \"Att_SellerSKU\": \"SKU\", \"NumeroParte\": \"Referencia\", }, inplace=True)\n",
    "bd_negocio_DISTR.rename(columns={\"ID\": \"Id\", \"TipoPublicacion(Clasica,Premium)\": \"Tipo de Publicación\", \"Att_SellerSKU\": \"SKU\", \"NumeroParte\": \"Referencia\", }, inplace=True)\n",
    "bd_negocio_DELATSA.rename(columns={\"ID\": \"Id\", \"TipoPublicacion(Clasica,Premium)\": \"Tipo de Publicación\", \"Att_SellerSKU\": \"SKU\", \"NumeroParte\": \"Referencia\", }, inplace=True)"
   ]
  },
  {
   "cell_type": "code",
   "execution_count": 31,
   "metadata": {},
   "outputs": [],
   "source": [
    "#Transformacion\n",
    "#Agregar \"MLM\" antes de cada valor en la columna \"Id\" para normalizar los valores\n",
    "negocio_bd_GR8[\"Id\"] = \"MLM\" + negocio_bd_GR8[\"Id\"].astype(str)\n",
    "bd_negocio_DISTR[\"Id\"] = \"MLM\" + bd_negocio_DISTR[\"Id\"].astype(str)\n",
    "bd_negocio_DELATSA[\"Id\"] = \"MLM\" + bd_negocio_DELATSA[\"Id\"].astype(str)"
   ]
  },
  {
   "cell_type": "code",
   "execution_count": 32,
   "metadata": {},
   "outputs": [],
   "source": [
    "#Transformacion\n",
    "# Eliminar las filas donde el valor de la columna \"Canal\" sea \"Mshops\" ya que solo repite la información de los productos de Mercado Libre\n",
    "negocio_bd_GR8 = negocio_bd_GR8[negocio_bd_GR8[\"Canal\"] != \"Mshops\"]\n",
    "bd_negocio_DISTR = bd_negocio_DISTR[bd_negocio_DISTR[\"Canal\"] != \"Mshops\"]\n",
    "bd_negocio_DELATSA = bd_negocio_DELATSA[bd_negocio_DELATSA[\"Canal\"] != \"Mshops\"]"
   ]
  },
  {
   "cell_type": "code",
   "execution_count": 33,
   "metadata": {},
   "outputs": [],
   "source": [
    "#Transformacion\n",
    "# Convertir la columna 'Precio' a numérico en bd_negocio\n",
    "negocio_bd_GR8['Precio'] = pd.to_numeric(negocio_bd_GR8['Precio'], errors='coerce')\n",
    "bd_negocio_DISTR['Precio'] = pd.to_numeric(bd_negocio_DISTR['Precio'], errors='coerce')\n",
    "bd_negocio_DELATSA['Precio'] = pd.to_numeric(bd_negocio_DELATSA['Precio'], errors='coerce')"
   ]
  },
  {
   "cell_type": "code",
   "execution_count": 34,
   "metadata": {},
   "outputs": [],
   "source": [
    "#Limpiar\n",
    "#eliminar productos sin precio\n",
    "negocio_bd_GR8 = negocio_bd_GR8.dropna(subset=['Precio'])\n",
    "bd_negocio_DISTR = bd_negocio_DISTR.dropna(subset=['Precio'])\n",
    "bd_negocio_DELATSA = bd_negocio_DELATSA.dropna(subset=['Precio'])"
   ]
  },
  {
   "cell_type": "code",
   "execution_count": 35,
   "metadata": {},
   "outputs": [],
   "source": [
    "#Transformación\n",
    "#Traemos las columnas con las que queremos trabajar\n",
    "negocio_bd_GR8 = negocio_bd_GR8[['Id', 'Titulo', 'Precio', 'Tipo de Publicación', 'SKU', 'Referencia', 'Canal']].copy()\n",
    "bd_negocio_DISTR = bd_negocio_DISTR[['Id', 'Titulo', 'Precio', 'Tipo de Publicación', 'SKU', 'Referencia', 'Canal']].copy()\n",
    "bd_negocio_DELATSA = bd_negocio_DELATSA[['Id', 'Titulo', 'Precio', 'Tipo de Publicación', 'SKU', 'Referencia', 'Canal']].copy()"
   ]
  },
  {
   "cell_type": "code",
   "execution_count": 36,
   "metadata": {},
   "outputs": [],
   "source": [
    "negocio_bd = pd.concat([negocio_bd_GR8, bd_negocio_DISTR, bd_negocio_DELATSA], ignore_index=True)"
   ]
  },
  {
   "cell_type": "markdown",
   "metadata": {},
   "source": [
    "Continuamos con DataFrame de 'compe_1' y 'compe_2'"
   ]
  },
  {
   "cell_type": "code",
   "execution_count": 38,
   "metadata": {},
   "outputs": [],
   "source": [
    "#Transformación\n",
    "#Traemos los productos que están como activos del día 2 que es con los precios que comparamos con los del negocio\n",
    "compe_2 = compe_2[compe_2['Estado'] == 'Activa']"
   ]
  },
  {
   "cell_type": "markdown",
   "metadata": {},
   "source": [
    "Eliminiamos filas que no contegan datos"
   ]
  },
  {
   "cell_type": "code",
   "execution_count": 39,
   "metadata": {},
   "outputs": [],
   "source": [
    "#Limpiar\n",
    "# Eliminar filas con NaN en columnas específicas\n",
    "compe_1 = compe_1.dropna(subset=['Precio', 'Precio Oferta ML'])\n",
    "compe_2 = compe_2.dropna(subset=['Precio', 'Precio Oferta ML'])\n"
   ]
  },
  {
   "cell_type": "markdown",
   "metadata": {},
   "source": [
    "Creamos una columna en la que nos enseñe el precio actual de la publicación. Por que puede que su precio esté en la columna de 'Precio' o de 'Precio Oferta ML' dependiendo si tiene decuento"
   ]
  },
  {
   "cell_type": "code",
   "execution_count": 40,
   "metadata": {},
   "outputs": [],
   "source": [
    "#Transformacion\n",
    "# Ejemplo de código para DataFrame `compe_1`\n",
    "compe_1['Precio_Final'] = compe_1.apply(\n",
    "    lambda row: row['Precio Oferta ML'] if pd.notnull(row['Precio Oferta ML']) and row['Precio Oferta ML'] > 0 else row['Precio'],\n",
    "    axis=1\n",
    ")\n",
    "\n",
    "# Ejemplo de código para DataFrame `compe_2`\n",
    "compe_2['Precio_Final'] = compe_2.apply(\n",
    "    lambda row: row['Precio Oferta ML'] if pd.notnull(row['Precio Oferta ML']) and row['Precio Oferta ML'] > 0 else row['Precio'],\n",
    "    axis=1\n",
    ")"
   ]
  },
  {
   "cell_type": "markdown",
   "metadata": {},
   "source": [
    "Traemos las columnas con las que vamos a Trabajar"
   ]
  },
  {
   "cell_type": "code",
   "execution_count": 41,
   "metadata": {},
   "outputs": [],
   "source": [
    "#Transformación\n",
    "#Traemos las columnas con las que queremos trabajar\n",
    "compe_1 = compe_1[['Id', 'Vendedor', 'Título', 'Precio_Final', 'Estado']].copy()\n",
    "compe_2 = compe_2[['Id', 'Vendedor', 'Título', 'Precio_Final', 'Estado']].copy()"
   ]
  },
  {
   "cell_type": "markdown",
   "metadata": {},
   "source": [
    "Seguimos con DataFrame de 'referencias'"
   ]
  },
  {
   "cell_type": "markdown",
   "metadata": {},
   "source": [
    "Cambiamos el nombre de columnas"
   ]
  },
  {
   "cell_type": "code",
   "execution_count": 42,
   "metadata": {},
   "outputs": [],
   "source": [
    "#Transformacion\n",
    "#Cambiamnos el nombre de 'Id publicacion ' a 'Id' para vincularlo con los datasets del archivo de bd_competencia\n",
    "ref.rename(columns={\"Id publicacion \": \"Id\"}, inplace=True)"
   ]
  },
  {
   "cell_type": "markdown",
   "metadata": {},
   "source": [
    "Traemos las columnas con las que vamos a Trabajar"
   ]
  },
  {
   "cell_type": "code",
   "execution_count": 43,
   "metadata": {},
   "outputs": [],
   "source": [
    "##Transformacion\n",
    "#Traemos las columnas con las que vamos a Trabajar\n",
    "ref = ref[['Id', 'Titulo', 'Referencia', 'SKU', 'Empresa', 'Precio final']].copy()"
   ]
  },
  {
   "cell_type": "markdown",
   "metadata": {},
   "source": [
    "Eliminamos las referencias que contengan \"0\", \"Por el titulo\" o \"Por modelo\" envés de un código válido"
   ]
  },
  {
   "cell_type": "code",
   "execution_count": 44,
   "metadata": {},
   "outputs": [],
   "source": [
    "#Limpiar\n",
    "# Filtrar las filas donde la columna 'Referencia' no contenga 0, \"Por el titulo\" o \"Por modelo\"\n",
    "ref = ref.loc[~ref['Referencia'].isin([\"0\", \"Por el titulo\", \"Por modelo\"])]"
   ]
  },
  {
   "cell_type": "markdown",
   "metadata": {},
   "source": [
    "Terminamos con DataFrame 'prom'"
   ]
  },
  {
   "cell_type": "code",
   "execution_count": 45,
   "metadata": {},
   "outputs": [],
   "source": [
    "prom.rename(columns={\"NOMBRE\": \"SKU\"}, inplace=True)"
   ]
  },
  {
   "cell_type": "markdown",
   "metadata": {},
   "source": [
    "Unión de datasets para comparar precios"
   ]
  },
  {
   "cell_type": "markdown",
   "metadata": {},
   "source": [
    "Unimos los dataframes de la competencia con 'ref' para asignarles su código de Referencia"
   ]
  },
  {
   "cell_type": "code",
   "execution_count": 46,
   "metadata": {},
   "outputs": [],
   "source": [
    "#Unir 'compe_1' con 'ref' en base a la columna 'Id' y agregar la columna 'Referencia'\n",
    "#Unir 'compe_2' con 'ref' en base a la columna 'Id' y agregar la columna 'Referencia'\n",
    "union_1_ref = compe_1.merge(ref[['Id', 'Referencia']], on='Id', how='left')\n",
    "union_2_ref = compe_2.merge(ref[['Id', 'Referencia']], on='Id', how='left')"
   ]
  },
  {
   "cell_type": "markdown",
   "metadata": {},
   "source": [
    "Los Id que no se les asignó código de referencia por no tener se eliminan"
   ]
  },
  {
   "cell_type": "code",
   "execution_count": 47,
   "metadata": {},
   "outputs": [],
   "source": [
    "# Eliminar filas solo si tienen NaN en la columna 'Referencia'\n",
    "union_1_ref = union_1_ref.dropna(subset=['Referencia'])\n",
    "union_2_ref = union_2_ref.dropna(subset=['Referencia'])"
   ]
  },
  {
   "cell_type": "markdown",
   "metadata": {},
   "source": [
    "Juntar las referencias duplicadas y solo entregar las que tienen menor precio"
   ]
  },
  {
   "cell_type": "code",
   "execution_count": 48,
   "metadata": {},
   "outputs": [],
   "source": [
    "# Día 1: Obtener el precio mínimo de cada referencia\n",
    "compe_1_listo = union_1_ref.loc[union_1_ref.groupby('Referencia')['Precio_Final'].idxmin()]\n",
    "\n",
    "# Día 2: Obtener el precio mínimo de cada referencia\n",
    "compe_2_listo = union_2_ref.loc[union_2_ref.groupby('Referencia')['Precio_Final'].idxmin()]"
   ]
  },
  {
   "cell_type": "markdown",
   "metadata": {},
   "source": [
    "Comenzamos los filtros "
   ]
  },
  {
   "cell_type": "markdown",
   "metadata": {},
   "source": [
    "**Primer Filtro: Cambió el precio de la competencia de un día a otro?"
   ]
  },
  {
   "cell_type": "markdown",
   "metadata": {},
   "source": [
    "Renombramos columnas para comparar un día con otro"
   ]
  },
  {
   "cell_type": "code",
   "execution_count": 49,
   "metadata": {},
   "outputs": [],
   "source": [
    "# Renombramos la columna 'Precio' en compe_1 y compe_2 para indicar los días\n",
    "compe_11 = compe_1_listo.rename(columns={'Precio_Final': 'Precio_Dia1'})\n",
    "compe_22 = compe_2_listo.rename(columns={'Precio_Final': 'Precio_Dia2'})\n"
   ]
  },
  {
   "cell_type": "markdown",
   "metadata": {},
   "source": [
    "Unimos dataframe de compe_11 y compe_22 para comparar precios y dar como resultado si cambió el precio de un dia a otro o no"
   ]
  },
  {
   "cell_type": "code",
   "execution_count": 50,
   "metadata": {},
   "outputs": [],
   "source": [
    "# Unimos los DataFrames en base al Id para comparar precios del día 1 y el día 2\n",
    "compe_compa = compe_11.merge(compe_22[['Referencia', 'Precio_Dia2']], on='Referencia', how='inner')\n",
    "\n",
    "# Creamos una columna para identificar si el precio cambió\n",
    "compe_compa['Cambio_Precio'] = compe_compa['Precio_Dia1'] != compe_compa['Precio_Dia2']"
   ]
  },
  {
   "cell_type": "markdown",
   "metadata": {},
   "source": [
    "(Revisión)"
   ]
  },
  {
   "cell_type": "code",
   "execution_count": 51,
   "metadata": {},
   "outputs": [],
   "source": [
    "compe_compa = compe_compa[compe_compa['Cambio_Precio'] == True]"
   ]
  },
  {
   "cell_type": "markdown",
   "metadata": {},
   "source": [
    "**Segundo FIltro: Que precios tienen el negocio mayor que la competenca? Tomando en cuenta que la competencia cambiara sus precios de un dia a otro"
   ]
  },
  {
   "cell_type": "markdown",
   "metadata": {},
   "source": [
    "1. Creamos un dataset con los datos de los código de referencia que sí cambiaron su oprecio de un día para otro"
   ]
  },
  {
   "cell_type": "markdown",
   "metadata": {},
   "source": [
    "2. Unimos los dataframes de bd_negocio con el nuevo de precios true con la info de los cambios de precio"
   ]
  },
  {
   "cell_type": "markdown",
   "metadata": {},
   "source": [
    "3. Hacemos la comparativa si nuestros precios son mayores que los de la competencia"
   ]
  },
  {
   "cell_type": "code",
   "execution_count": 52,
   "metadata": {},
   "outputs": [],
   "source": [
    "# Filtrar precios_comparacion para obtener solo los registros donde el precio cambió\n",
    "precios_true = compe_compa[compe_compa['Cambio_Precio']]\n",
    "\n",
    "# Unir con negocio_bd en base a la columna 'Referencia'\n",
    "compe_vs_negocio = precios_true.merge(negocio_bd[['Referencia', 'Precio', 'Id', 'Canal', 'SKU']], on='Referencia', how='inner')\n",
    "\n",
    "# Crear una columna para verificar si el precio del negocio es mayor que el de la competencia (Precio_Dia2)\n",
    "compe_vs_negocio['Negocio_Mayor_Competencia'] = compe_vs_negocio['Precio'] > compe_vs_negocio['Precio_Dia2']\n"
   ]
  },
  {
   "cell_type": "markdown",
   "metadata": {},
   "source": [
    "Filtramos los casos en los que el precio del negocio es mayor que el de la competencia"
   ]
  },
  {
   "cell_type": "code",
   "execution_count": 53,
   "metadata": {},
   "outputs": [],
   "source": [
    "# Filtrar solo los casos donde el precio del negocio es mayor\n",
    "mayores_negocio = compe_vs_negocio[compe_vs_negocio['Negocio_Mayor_Competencia']]\n"
   ]
  },
  {
   "cell_type": "markdown",
   "metadata": {},
   "source": [
    "Traemos las columnas que queremos al nuevo dataframe"
   ]
  },
  {
   "cell_type": "code",
   "execution_count": 54,
   "metadata": {},
   "outputs": [],
   "source": [
    "mayores_negocio = mayores_negocio[['Id_x', 'Vendedor', 'Título', 'Precio_Dia2', 'Precio', 'Id_y', 'Canal', 'SKU', 'Negocio_Mayor_Competencia']].copy()"
   ]
  },
  {
   "cell_type": "code",
   "execution_count": 55,
   "metadata": {},
   "outputs": [],
   "source": [
    "mayores_negocio.rename(columns={\"Id_x\": \"Id_comp\", \"Precio_Dia2\": \"Precio_comp\", \"Precio\": \"Precio_nuestro\", \"Id_y\": \"Id_nuestro\" }, inplace=True)"
   ]
  },
  {
   "cell_type": "markdown",
   "metadata": {},
   "source": [
    "Creamos una nueva columna donde pondremos el nuevo precio sugerido de los productos que complieron con los filtros anteriores"
   ]
  },
  {
   "cell_type": "markdown",
   "metadata": {},
   "source": [
    "**Tercer Filtro: Multiplicar productos x .99 del valor de la competencia"
   ]
  },
  {
   "cell_type": "code",
   "execution_count": 56,
   "metadata": {},
   "outputs": [],
   "source": [
    "# Calcular el nuevo precio sugerido multiplicando por 0.99\n",
    "mayores_negocio['Precio_Sugerido'] = mayores_negocio['Precio_comp'] * 0.99\n",
    "\n"
   ]
  },
  {
   "cell_type": "markdown",
   "metadata": {},
   "source": [
    "Agregamos columna con precio desglosado de comisiones de mercado libre"
   ]
  },
  {
   "cell_type": "code",
   "execution_count": 57,
   "metadata": {},
   "outputs": [],
   "source": [
    "# Calcular únicamente la comisión total de Mercado Libre\n",
    "mayores_negocio['Comision_MercadoLibre'] = (mayores_negocio['Precio_Sugerido'] * (iva * isr - 1)) + envio"
   ]
  },
  {
   "cell_type": "markdown",
   "metadata": {},
   "source": [
    "Agregar costo promedio del producto"
   ]
  },
  {
   "cell_type": "markdown",
   "metadata": {},
   "source": [
    "Agregamos la utilidad del producto con el nuevo precio sugerido"
   ]
  },
  {
   "cell_type": "code",
   "execution_count": 58,
   "metadata": {},
   "outputs": [],
   "source": [
    "# Realizar un merge en base a la columna SKU\n",
    "r_precio_mayor = pd.merge(mayores_negocio, prom, on='SKU', how='left')\n",
    "\n",
    "# Calcular la utilidad\n",
    "r_precio_mayor['Utilidad_en_pesos'] = r_precio_mayor['Precio_Sugerido'] - r_precio_mayor['Comision_MercadoLibre'] - r_precio_mayor['COSTO_PROM']\n",
    "\n",
    "# Opcional: Calcular el porcentaje de utilidad sobre el precio final\n",
    "r_precio_mayor['Utilidad_Porcentaje'] = (r_precio_mayor['Utilidad_en_pesos'] / r_precio_mayor['Precio_Sugerido']) * 100\n"
   ]
  },
  {
   "cell_type": "code",
   "execution_count": 59,
   "metadata": {},
   "outputs": [
    {
     "data": {
      "text/html": [
       "<div>\n",
       "<style scoped>\n",
       "    .dataframe tbody tr th:only-of-type {\n",
       "        vertical-align: middle;\n",
       "    }\n",
       "\n",
       "    .dataframe tbody tr th {\n",
       "        vertical-align: top;\n",
       "    }\n",
       "\n",
       "    .dataframe thead th {\n",
       "        text-align: right;\n",
       "    }\n",
       "</style>\n",
       "<table border=\"1\" class=\"dataframe\">\n",
       "  <thead>\n",
       "    <tr style=\"text-align: right;\">\n",
       "      <th></th>\n",
       "      <th>Id_comp</th>\n",
       "      <th>Vendedor</th>\n",
       "      <th>Título</th>\n",
       "      <th>Precio_comp</th>\n",
       "      <th>Precio_nuestro</th>\n",
       "      <th>Id_nuestro</th>\n",
       "      <th>Canal</th>\n",
       "      <th>SKU</th>\n",
       "      <th>Negocio_Mayor_Competencia</th>\n",
       "      <th>Precio_Sugerido</th>\n",
       "      <th>Comision_MercadoLibre</th>\n",
       "      <th>COSTO_PROM</th>\n",
       "      <th>Utilidad_en_pesos</th>\n",
       "      <th>Utilidad_Porcentaje</th>\n",
       "    </tr>\n",
       "  </thead>\n",
       "  <tbody>\n",
       "    <tr>\n",
       "      <th>0</th>\n",
       "      <td>MLM2681736612</td>\n",
       "      <td>CNFUBBMXF</td>\n",
       "      <td>Alternador Volkswagen Vw Vocho, Beetle, Sedán,...</td>\n",
       "      <td>1285.46</td>\n",
       "      <td>1401.0</td>\n",
       "      <td>MLM1938567861</td>\n",
       "      <td>MercadoLibre</td>\n",
       "      <td>ALT-B13080</td>\n",
       "      <td>True</td>\n",
       "      <td>1272.6054</td>\n",
       "      <td>485.525758</td>\n",
       "      <td>687.062</td>\n",
       "      <td>100.017642</td>\n",
       "      <td>7.859282</td>\n",
       "    </tr>\n",
       "    <tr>\n",
       "      <th>1</th>\n",
       "      <td>MLM2681736612</td>\n",
       "      <td>CNFUBBMXF</td>\n",
       "      <td>Alternador Volkswagen Vw Vocho, Beetle, Sedán,...</td>\n",
       "      <td>1285.46</td>\n",
       "      <td>1401.0</td>\n",
       "      <td>MLM1938568155</td>\n",
       "      <td>MercadoLibre</td>\n",
       "      <td>ALT-B13080</td>\n",
       "      <td>True</td>\n",
       "      <td>1272.6054</td>\n",
       "      <td>485.525758</td>\n",
       "      <td>687.062</td>\n",
       "      <td>100.017642</td>\n",
       "      <td>7.859282</td>\n",
       "    </tr>\n",
       "    <tr>\n",
       "      <th>2</th>\n",
       "      <td>MLM2681736612</td>\n",
       "      <td>CNFUBBMXF</td>\n",
       "      <td>Alternador Volkswagen Vw Vocho, Beetle, Sedán,...</td>\n",
       "      <td>1285.46</td>\n",
       "      <td>1401.0</td>\n",
       "      <td>MLM1938568183</td>\n",
       "      <td>MercadoLibre</td>\n",
       "      <td>ALT-B13080</td>\n",
       "      <td>True</td>\n",
       "      <td>1272.6054</td>\n",
       "      <td>485.525758</td>\n",
       "      <td>687.062</td>\n",
       "      <td>100.017642</td>\n",
       "      <td>7.859282</td>\n",
       "    </tr>\n",
       "    <tr>\n",
       "      <th>3</th>\n",
       "      <td>MLM2681736612</td>\n",
       "      <td>CNFUBBMXF</td>\n",
       "      <td>Alternador Volkswagen Vw Vocho, Beetle, Sedán,...</td>\n",
       "      <td>1285.46</td>\n",
       "      <td>1401.0</td>\n",
       "      <td>MLM2011473197</td>\n",
       "      <td>MercadoLibre</td>\n",
       "      <td>ALT-B13080</td>\n",
       "      <td>True</td>\n",
       "      <td>1272.6054</td>\n",
       "      <td>485.525758</td>\n",
       "      <td>687.062</td>\n",
       "      <td>100.017642</td>\n",
       "      <td>7.859282</td>\n",
       "    </tr>\n",
       "    <tr>\n",
       "      <th>4</th>\n",
       "      <td>MLM2681736612</td>\n",
       "      <td>CNFUBBMXF</td>\n",
       "      <td>Alternador Volkswagen Vw Vocho, Beetle, Sedán,...</td>\n",
       "      <td>1285.46</td>\n",
       "      <td>1401.0</td>\n",
       "      <td>MLM2440224770</td>\n",
       "      <td>MercadoLibre</td>\n",
       "      <td>ALT-B13080</td>\n",
       "      <td>True</td>\n",
       "      <td>1272.6054</td>\n",
       "      <td>485.525758</td>\n",
       "      <td>687.062</td>\n",
       "      <td>100.017642</td>\n",
       "      <td>7.859282</td>\n",
       "    </tr>\n",
       "    <tr>\n",
       "      <th>...</th>\n",
       "      <td>...</td>\n",
       "      <td>...</td>\n",
       "      <td>...</td>\n",
       "      <td>...</td>\n",
       "      <td>...</td>\n",
       "      <td>...</td>\n",
       "      <td>...</td>\n",
       "      <td>...</td>\n",
       "      <td>...</td>\n",
       "      <td>...</td>\n",
       "      <td>...</td>\n",
       "      <td>...</td>\n",
       "      <td>...</td>\n",
       "      <td>...</td>\n",
       "    </tr>\n",
       "    <tr>\n",
       "      <th>103</th>\n",
       "      <td>MLM2706696058</td>\n",
       "      <td>CNFUBBMXF</td>\n",
       "      <td>Marcha Para Ford Courier Fiesta 2001-2012 Ikon...</td>\n",
       "      <td>1389.21</td>\n",
       "      <td>1805.0</td>\n",
       "      <td>MLM887050320</td>\n",
       "      <td>MercadoLibre</td>\n",
       "      <td>MAR-V438180</td>\n",
       "      <td>True</td>\n",
       "      <td>1375.3179</td>\n",
       "      <td>517.448803</td>\n",
       "      <td>656.092</td>\n",
       "      <td>201.777097</td>\n",
       "      <td>14.671306</td>\n",
       "    </tr>\n",
       "    <tr>\n",
       "      <th>104</th>\n",
       "      <td>MLM2706696058</td>\n",
       "      <td>CNFUBBMXF</td>\n",
       "      <td>Marcha Para Ford Courier Fiesta 2001-2012 Ikon...</td>\n",
       "      <td>1389.21</td>\n",
       "      <td>1805.0</td>\n",
       "      <td>MLM887050323</td>\n",
       "      <td>MercadoLibre</td>\n",
       "      <td>MAR-V438180</td>\n",
       "      <td>True</td>\n",
       "      <td>1375.3179</td>\n",
       "      <td>517.448803</td>\n",
       "      <td>656.092</td>\n",
       "      <td>201.777097</td>\n",
       "      <td>14.671306</td>\n",
       "    </tr>\n",
       "    <tr>\n",
       "      <th>105</th>\n",
       "      <td>MLM2706696058</td>\n",
       "      <td>CNFUBBMXF</td>\n",
       "      <td>Marcha Para Ford Courier Fiesta 2001-2012 Ikon...</td>\n",
       "      <td>1389.21</td>\n",
       "      <td>1805.0</td>\n",
       "      <td>MLM887050326</td>\n",
       "      <td>MercadoLibre</td>\n",
       "      <td>MAR-V438180</td>\n",
       "      <td>True</td>\n",
       "      <td>1375.3179</td>\n",
       "      <td>517.448803</td>\n",
       "      <td>656.092</td>\n",
       "      <td>201.777097</td>\n",
       "      <td>14.671306</td>\n",
       "    </tr>\n",
       "    <tr>\n",
       "      <th>106</th>\n",
       "      <td>MLM2706696058</td>\n",
       "      <td>CNFUBBMXF</td>\n",
       "      <td>Marcha Para Ford Courier Fiesta 2001-2012 Ikon...</td>\n",
       "      <td>1389.21</td>\n",
       "      <td>1805.0</td>\n",
       "      <td>MLM2011382713</td>\n",
       "      <td>Ambos</td>\n",
       "      <td>MAR-V438180</td>\n",
       "      <td>True</td>\n",
       "      <td>1375.3179</td>\n",
       "      <td>517.448803</td>\n",
       "      <td>656.092</td>\n",
       "      <td>201.777097</td>\n",
       "      <td>14.671306</td>\n",
       "    </tr>\n",
       "    <tr>\n",
       "      <th>107</th>\n",
       "      <td>MLM2292825954</td>\n",
       "      <td>VAGOLEROVAGOLERO20221202150356</td>\n",
       "      <td>Alternador Peugeot 206, 207 2000-2010, Partner...</td>\n",
       "      <td>1575.14</td>\n",
       "      <td>5782.0</td>\n",
       "      <td>MLM1938634977</td>\n",
       "      <td>MercadoLibre</td>\n",
       "      <td>ALT-VSG9B043</td>\n",
       "      <td>True</td>\n",
       "      <td>1559.3886</td>\n",
       "      <td>574.657977</td>\n",
       "      <td>2092.741</td>\n",
       "      <td>-1108.010377</td>\n",
       "      <td>-71.054154</td>\n",
       "    </tr>\n",
       "  </tbody>\n",
       "</table>\n",
       "<p>108 rows × 14 columns</p>\n",
       "</div>"
      ],
      "text/plain": [
       "           Id_comp                        Vendedor  \\\n",
       "0    MLM2681736612                       CNFUBBMXF   \n",
       "1    MLM2681736612                       CNFUBBMXF   \n",
       "2    MLM2681736612                       CNFUBBMXF   \n",
       "3    MLM2681736612                       CNFUBBMXF   \n",
       "4    MLM2681736612                       CNFUBBMXF   \n",
       "..             ...                             ...   \n",
       "103  MLM2706696058                       CNFUBBMXF   \n",
       "104  MLM2706696058                       CNFUBBMXF   \n",
       "105  MLM2706696058                       CNFUBBMXF   \n",
       "106  MLM2706696058                       CNFUBBMXF   \n",
       "107  MLM2292825954  VAGOLEROVAGOLERO20221202150356   \n",
       "\n",
       "                                                Título  Precio_comp  \\\n",
       "0    Alternador Volkswagen Vw Vocho, Beetle, Sedán,...      1285.46   \n",
       "1    Alternador Volkswagen Vw Vocho, Beetle, Sedán,...      1285.46   \n",
       "2    Alternador Volkswagen Vw Vocho, Beetle, Sedán,...      1285.46   \n",
       "3    Alternador Volkswagen Vw Vocho, Beetle, Sedán,...      1285.46   \n",
       "4    Alternador Volkswagen Vw Vocho, Beetle, Sedán,...      1285.46   \n",
       "..                                                 ...          ...   \n",
       "103  Marcha Para Ford Courier Fiesta 2001-2012 Ikon...      1389.21   \n",
       "104  Marcha Para Ford Courier Fiesta 2001-2012 Ikon...      1389.21   \n",
       "105  Marcha Para Ford Courier Fiesta 2001-2012 Ikon...      1389.21   \n",
       "106  Marcha Para Ford Courier Fiesta 2001-2012 Ikon...      1389.21   \n",
       "107  Alternador Peugeot 206, 207 2000-2010, Partner...      1575.14   \n",
       "\n",
       "     Precio_nuestro     Id_nuestro         Canal           SKU  \\\n",
       "0            1401.0  MLM1938567861  MercadoLibre    ALT-B13080   \n",
       "1            1401.0  MLM1938568155  MercadoLibre    ALT-B13080   \n",
       "2            1401.0  MLM1938568183  MercadoLibre    ALT-B13080   \n",
       "3            1401.0  MLM2011473197  MercadoLibre    ALT-B13080   \n",
       "4            1401.0  MLM2440224770  MercadoLibre    ALT-B13080   \n",
       "..              ...            ...           ...           ...   \n",
       "103          1805.0   MLM887050320  MercadoLibre   MAR-V438180   \n",
       "104          1805.0   MLM887050323  MercadoLibre   MAR-V438180   \n",
       "105          1805.0   MLM887050326  MercadoLibre   MAR-V438180   \n",
       "106          1805.0  MLM2011382713         Ambos   MAR-V438180   \n",
       "107          5782.0  MLM1938634977  MercadoLibre  ALT-VSG9B043   \n",
       "\n",
       "     Negocio_Mayor_Competencia  Precio_Sugerido  Comision_MercadoLibre  \\\n",
       "0                         True        1272.6054             485.525758   \n",
       "1                         True        1272.6054             485.525758   \n",
       "2                         True        1272.6054             485.525758   \n",
       "3                         True        1272.6054             485.525758   \n",
       "4                         True        1272.6054             485.525758   \n",
       "..                         ...              ...                    ...   \n",
       "103                       True        1375.3179             517.448803   \n",
       "104                       True        1375.3179             517.448803   \n",
       "105                       True        1375.3179             517.448803   \n",
       "106                       True        1375.3179             517.448803   \n",
       "107                       True        1559.3886             574.657977   \n",
       "\n",
       "     COSTO_PROM  Utilidad_en_pesos  Utilidad_Porcentaje  \n",
       "0       687.062         100.017642             7.859282  \n",
       "1       687.062         100.017642             7.859282  \n",
       "2       687.062         100.017642             7.859282  \n",
       "3       687.062         100.017642             7.859282  \n",
       "4       687.062         100.017642             7.859282  \n",
       "..          ...                ...                  ...  \n",
       "103     656.092         201.777097            14.671306  \n",
       "104     656.092         201.777097            14.671306  \n",
       "105     656.092         201.777097            14.671306  \n",
       "106     656.092         201.777097            14.671306  \n",
       "107    2092.741       -1108.010377           -71.054154  \n",
       "\n",
       "[108 rows x 14 columns]"
      ]
     },
     "execution_count": 59,
     "metadata": {},
     "output_type": "execute_result"
    }
   ],
   "source": [
    "\n",
    "\n",
    "r_precio_mayor"
   ]
  },
  {
   "cell_type": "markdown",
   "metadata": {},
   "source": [
    "Agregamos otro DataFrame con un nuevo formato que será el formato Requerido por Delatsa"
   ]
  },
  {
   "cell_type": "code",
   "execution_count": 60,
   "metadata": {},
   "outputs": [],
   "source": [
    "r_precio_mayor_formato = r_precio_mayor[['Id_nuestro', 'Precio_Sugerido', 'Precio_nuestro' ]].copy()\n",
    "r_precio_mayor_formato['Oferta_Revisada'] = None\n",
    "r_precio_mayor_formato['Precio_Exclusivo_Meli_'] = \" \" \n",
    "\n",
    "#Movemos la columna 'Oferta_Revisada' de lugar para que quede como el formato que nos pidió Delatsa\n",
    "columna_movers = r_precio_mayor_formato.pop('Oferta_Revisada')\n",
    "r_precio_mayor_formato.insert(2, 'Oferta_Revisada', columna_movers)\n",
    "r_precio_mayor_formato['Precio_Exclusivo_Meli_'] = \" \" "
   ]
  },
  {
   "cell_type": "code",
   "execution_count": 61,
   "metadata": {},
   "outputs": [
    {
     "data": {
      "text/html": [
       "<div>\n",
       "<style scoped>\n",
       "    .dataframe tbody tr th:only-of-type {\n",
       "        vertical-align: middle;\n",
       "    }\n",
       "\n",
       "    .dataframe tbody tr th {\n",
       "        vertical-align: top;\n",
       "    }\n",
       "\n",
       "    .dataframe thead th {\n",
       "        text-align: right;\n",
       "    }\n",
       "</style>\n",
       "<table border=\"1\" class=\"dataframe\">\n",
       "  <thead>\n",
       "    <tr style=\"text-align: right;\">\n",
       "      <th></th>\n",
       "      <th>Id_nuestro</th>\n",
       "      <th>Precio_Sugerido</th>\n",
       "      <th>Oferta_Revisada</th>\n",
       "      <th>Precio_nuestro</th>\n",
       "      <th>Precio_Exclusivo_Meli_</th>\n",
       "    </tr>\n",
       "  </thead>\n",
       "  <tbody>\n",
       "    <tr>\n",
       "      <th>0</th>\n",
       "      <td>MLM1938567861</td>\n",
       "      <td>1272.6054</td>\n",
       "      <td>None</td>\n",
       "      <td>1401.0</td>\n",
       "      <td></td>\n",
       "    </tr>\n",
       "    <tr>\n",
       "      <th>1</th>\n",
       "      <td>MLM1938568155</td>\n",
       "      <td>1272.6054</td>\n",
       "      <td>None</td>\n",
       "      <td>1401.0</td>\n",
       "      <td></td>\n",
       "    </tr>\n",
       "    <tr>\n",
       "      <th>2</th>\n",
       "      <td>MLM1938568183</td>\n",
       "      <td>1272.6054</td>\n",
       "      <td>None</td>\n",
       "      <td>1401.0</td>\n",
       "      <td></td>\n",
       "    </tr>\n",
       "    <tr>\n",
       "      <th>3</th>\n",
       "      <td>MLM2011473197</td>\n",
       "      <td>1272.6054</td>\n",
       "      <td>None</td>\n",
       "      <td>1401.0</td>\n",
       "      <td></td>\n",
       "    </tr>\n",
       "    <tr>\n",
       "      <th>4</th>\n",
       "      <td>MLM2440224770</td>\n",
       "      <td>1272.6054</td>\n",
       "      <td>None</td>\n",
       "      <td>1401.0</td>\n",
       "      <td></td>\n",
       "    </tr>\n",
       "    <tr>\n",
       "      <th>...</th>\n",
       "      <td>...</td>\n",
       "      <td>...</td>\n",
       "      <td>...</td>\n",
       "      <td>...</td>\n",
       "      <td>...</td>\n",
       "    </tr>\n",
       "    <tr>\n",
       "      <th>103</th>\n",
       "      <td>MLM887050320</td>\n",
       "      <td>1375.3179</td>\n",
       "      <td>None</td>\n",
       "      <td>1805.0</td>\n",
       "      <td></td>\n",
       "    </tr>\n",
       "    <tr>\n",
       "      <th>104</th>\n",
       "      <td>MLM887050323</td>\n",
       "      <td>1375.3179</td>\n",
       "      <td>None</td>\n",
       "      <td>1805.0</td>\n",
       "      <td></td>\n",
       "    </tr>\n",
       "    <tr>\n",
       "      <th>105</th>\n",
       "      <td>MLM887050326</td>\n",
       "      <td>1375.3179</td>\n",
       "      <td>None</td>\n",
       "      <td>1805.0</td>\n",
       "      <td></td>\n",
       "    </tr>\n",
       "    <tr>\n",
       "      <th>106</th>\n",
       "      <td>MLM2011382713</td>\n",
       "      <td>1375.3179</td>\n",
       "      <td>None</td>\n",
       "      <td>1805.0</td>\n",
       "      <td></td>\n",
       "    </tr>\n",
       "    <tr>\n",
       "      <th>107</th>\n",
       "      <td>MLM1938634977</td>\n",
       "      <td>1559.3886</td>\n",
       "      <td>None</td>\n",
       "      <td>5782.0</td>\n",
       "      <td></td>\n",
       "    </tr>\n",
       "  </tbody>\n",
       "</table>\n",
       "<p>108 rows × 5 columns</p>\n",
       "</div>"
      ],
      "text/plain": [
       "        Id_nuestro  Precio_Sugerido Oferta_Revisada  Precio_nuestro  \\\n",
       "0    MLM1938567861        1272.6054            None          1401.0   \n",
       "1    MLM1938568155        1272.6054            None          1401.0   \n",
       "2    MLM1938568183        1272.6054            None          1401.0   \n",
       "3    MLM2011473197        1272.6054            None          1401.0   \n",
       "4    MLM2440224770        1272.6054            None          1401.0   \n",
       "..             ...              ...             ...             ...   \n",
       "103   MLM887050320        1375.3179            None          1805.0   \n",
       "104   MLM887050323        1375.3179            None          1805.0   \n",
       "105   MLM887050326        1375.3179            None          1805.0   \n",
       "106  MLM2011382713        1375.3179            None          1805.0   \n",
       "107  MLM1938634977        1559.3886            None          5782.0   \n",
       "\n",
       "    Precio_Exclusivo_Meli_  \n",
       "0                           \n",
       "1                           \n",
       "2                           \n",
       "3                           \n",
       "4                           \n",
       "..                     ...  \n",
       "103                         \n",
       "104                         \n",
       "105                         \n",
       "106                         \n",
       "107                         \n",
       "\n",
       "[108 rows x 5 columns]"
      ]
     },
     "execution_count": 61,
     "metadata": {},
     "output_type": "execute_result"
    }
   ],
   "source": [
    "r_precio_mayor_formato"
   ]
  },
  {
   "cell_type": "markdown",
   "metadata": {},
   "source": [
    "Filtramos por si salieron valores negativos, que significan que estaríamos perdiendo dinero si cambiaramos el precio"
   ]
  },
  {
   "cell_type": "code",
   "execution_count": 62,
   "metadata": {},
   "outputs": [],
   "source": [
    "# Filtrar el dataframe para que solo incluya filas donde 'Utilidad' es mayor o igual a cero\n",
    "r_precio_mayor_filtrado = r_precio_mayor[r_precio_mayor['Utilidad_en_pesos'] >= 0]"
   ]
  },
  {
   "cell_type": "code",
   "execution_count": 63,
   "metadata": {},
   "outputs": [
    {
     "data": {
      "text/html": [
       "<div>\n",
       "<style scoped>\n",
       "    .dataframe tbody tr th:only-of-type {\n",
       "        vertical-align: middle;\n",
       "    }\n",
       "\n",
       "    .dataframe tbody tr th {\n",
       "        vertical-align: top;\n",
       "    }\n",
       "\n",
       "    .dataframe thead th {\n",
       "        text-align: right;\n",
       "    }\n",
       "</style>\n",
       "<table border=\"1\" class=\"dataframe\">\n",
       "  <thead>\n",
       "    <tr style=\"text-align: right;\">\n",
       "      <th></th>\n",
       "      <th>Id_comp</th>\n",
       "      <th>Vendedor</th>\n",
       "      <th>Título</th>\n",
       "      <th>Precio_comp</th>\n",
       "      <th>Precio_nuestro</th>\n",
       "      <th>Id_nuestro</th>\n",
       "      <th>Canal</th>\n",
       "      <th>SKU</th>\n",
       "      <th>Negocio_Mayor_Competencia</th>\n",
       "      <th>Precio_Sugerido</th>\n",
       "      <th>Comision_MercadoLibre</th>\n",
       "      <th>COSTO_PROM</th>\n",
       "      <th>Utilidad_en_pesos</th>\n",
       "      <th>Utilidad_Porcentaje</th>\n",
       "    </tr>\n",
       "  </thead>\n",
       "  <tbody>\n",
       "    <tr>\n",
       "      <th>0</th>\n",
       "      <td>MLM2681736612</td>\n",
       "      <td>CNFUBBMXF</td>\n",
       "      <td>Alternador Volkswagen Vw Vocho, Beetle, Sedán,...</td>\n",
       "      <td>1285.46</td>\n",
       "      <td>1401.0</td>\n",
       "      <td>MLM1938567861</td>\n",
       "      <td>MercadoLibre</td>\n",
       "      <td>ALT-B13080</td>\n",
       "      <td>True</td>\n",
       "      <td>1272.6054</td>\n",
       "      <td>485.525758</td>\n",
       "      <td>687.062</td>\n",
       "      <td>100.017642</td>\n",
       "      <td>7.859282</td>\n",
       "    </tr>\n",
       "    <tr>\n",
       "      <th>1</th>\n",
       "      <td>MLM2681736612</td>\n",
       "      <td>CNFUBBMXF</td>\n",
       "      <td>Alternador Volkswagen Vw Vocho, Beetle, Sedán,...</td>\n",
       "      <td>1285.46</td>\n",
       "      <td>1401.0</td>\n",
       "      <td>MLM1938568155</td>\n",
       "      <td>MercadoLibre</td>\n",
       "      <td>ALT-B13080</td>\n",
       "      <td>True</td>\n",
       "      <td>1272.6054</td>\n",
       "      <td>485.525758</td>\n",
       "      <td>687.062</td>\n",
       "      <td>100.017642</td>\n",
       "      <td>7.859282</td>\n",
       "    </tr>\n",
       "    <tr>\n",
       "      <th>2</th>\n",
       "      <td>MLM2681736612</td>\n",
       "      <td>CNFUBBMXF</td>\n",
       "      <td>Alternador Volkswagen Vw Vocho, Beetle, Sedán,...</td>\n",
       "      <td>1285.46</td>\n",
       "      <td>1401.0</td>\n",
       "      <td>MLM1938568183</td>\n",
       "      <td>MercadoLibre</td>\n",
       "      <td>ALT-B13080</td>\n",
       "      <td>True</td>\n",
       "      <td>1272.6054</td>\n",
       "      <td>485.525758</td>\n",
       "      <td>687.062</td>\n",
       "      <td>100.017642</td>\n",
       "      <td>7.859282</td>\n",
       "    </tr>\n",
       "    <tr>\n",
       "      <th>3</th>\n",
       "      <td>MLM2681736612</td>\n",
       "      <td>CNFUBBMXF</td>\n",
       "      <td>Alternador Volkswagen Vw Vocho, Beetle, Sedán,...</td>\n",
       "      <td>1285.46</td>\n",
       "      <td>1401.0</td>\n",
       "      <td>MLM2011473197</td>\n",
       "      <td>MercadoLibre</td>\n",
       "      <td>ALT-B13080</td>\n",
       "      <td>True</td>\n",
       "      <td>1272.6054</td>\n",
       "      <td>485.525758</td>\n",
       "      <td>687.062</td>\n",
       "      <td>100.017642</td>\n",
       "      <td>7.859282</td>\n",
       "    </tr>\n",
       "    <tr>\n",
       "      <th>4</th>\n",
       "      <td>MLM2681736612</td>\n",
       "      <td>CNFUBBMXF</td>\n",
       "      <td>Alternador Volkswagen Vw Vocho, Beetle, Sedán,...</td>\n",
       "      <td>1285.46</td>\n",
       "      <td>1401.0</td>\n",
       "      <td>MLM2440224770</td>\n",
       "      <td>MercadoLibre</td>\n",
       "      <td>ALT-B13080</td>\n",
       "      <td>True</td>\n",
       "      <td>1272.6054</td>\n",
       "      <td>485.525758</td>\n",
       "      <td>687.062</td>\n",
       "      <td>100.017642</td>\n",
       "      <td>7.859282</td>\n",
       "    </tr>\n",
       "    <tr>\n",
       "      <th>...</th>\n",
       "      <td>...</td>\n",
       "      <td>...</td>\n",
       "      <td>...</td>\n",
       "      <td>...</td>\n",
       "      <td>...</td>\n",
       "      <td>...</td>\n",
       "      <td>...</td>\n",
       "      <td>...</td>\n",
       "      <td>...</td>\n",
       "      <td>...</td>\n",
       "      <td>...</td>\n",
       "      <td>...</td>\n",
       "      <td>...</td>\n",
       "      <td>...</td>\n",
       "    </tr>\n",
       "    <tr>\n",
       "      <th>102</th>\n",
       "      <td>MLM2706696058</td>\n",
       "      <td>CNFUBBMXF</td>\n",
       "      <td>Marcha Para Ford Courier Fiesta 2001-2012 Ikon...</td>\n",
       "      <td>1389.21</td>\n",
       "      <td>1805.0</td>\n",
       "      <td>MLM887050317</td>\n",
       "      <td>MercadoLibre</td>\n",
       "      <td>MAR-V438180</td>\n",
       "      <td>True</td>\n",
       "      <td>1375.3179</td>\n",
       "      <td>517.448803</td>\n",
       "      <td>656.092</td>\n",
       "      <td>201.777097</td>\n",
       "      <td>14.671306</td>\n",
       "    </tr>\n",
       "    <tr>\n",
       "      <th>103</th>\n",
       "      <td>MLM2706696058</td>\n",
       "      <td>CNFUBBMXF</td>\n",
       "      <td>Marcha Para Ford Courier Fiesta 2001-2012 Ikon...</td>\n",
       "      <td>1389.21</td>\n",
       "      <td>1805.0</td>\n",
       "      <td>MLM887050320</td>\n",
       "      <td>MercadoLibre</td>\n",
       "      <td>MAR-V438180</td>\n",
       "      <td>True</td>\n",
       "      <td>1375.3179</td>\n",
       "      <td>517.448803</td>\n",
       "      <td>656.092</td>\n",
       "      <td>201.777097</td>\n",
       "      <td>14.671306</td>\n",
       "    </tr>\n",
       "    <tr>\n",
       "      <th>104</th>\n",
       "      <td>MLM2706696058</td>\n",
       "      <td>CNFUBBMXF</td>\n",
       "      <td>Marcha Para Ford Courier Fiesta 2001-2012 Ikon...</td>\n",
       "      <td>1389.21</td>\n",
       "      <td>1805.0</td>\n",
       "      <td>MLM887050323</td>\n",
       "      <td>MercadoLibre</td>\n",
       "      <td>MAR-V438180</td>\n",
       "      <td>True</td>\n",
       "      <td>1375.3179</td>\n",
       "      <td>517.448803</td>\n",
       "      <td>656.092</td>\n",
       "      <td>201.777097</td>\n",
       "      <td>14.671306</td>\n",
       "    </tr>\n",
       "    <tr>\n",
       "      <th>105</th>\n",
       "      <td>MLM2706696058</td>\n",
       "      <td>CNFUBBMXF</td>\n",
       "      <td>Marcha Para Ford Courier Fiesta 2001-2012 Ikon...</td>\n",
       "      <td>1389.21</td>\n",
       "      <td>1805.0</td>\n",
       "      <td>MLM887050326</td>\n",
       "      <td>MercadoLibre</td>\n",
       "      <td>MAR-V438180</td>\n",
       "      <td>True</td>\n",
       "      <td>1375.3179</td>\n",
       "      <td>517.448803</td>\n",
       "      <td>656.092</td>\n",
       "      <td>201.777097</td>\n",
       "      <td>14.671306</td>\n",
       "    </tr>\n",
       "    <tr>\n",
       "      <th>106</th>\n",
       "      <td>MLM2706696058</td>\n",
       "      <td>CNFUBBMXF</td>\n",
       "      <td>Marcha Para Ford Courier Fiesta 2001-2012 Ikon...</td>\n",
       "      <td>1389.21</td>\n",
       "      <td>1805.0</td>\n",
       "      <td>MLM2011382713</td>\n",
       "      <td>Ambos</td>\n",
       "      <td>MAR-V438180</td>\n",
       "      <td>True</td>\n",
       "      <td>1375.3179</td>\n",
       "      <td>517.448803</td>\n",
       "      <td>656.092</td>\n",
       "      <td>201.777097</td>\n",
       "      <td>14.671306</td>\n",
       "    </tr>\n",
       "  </tbody>\n",
       "</table>\n",
       "<p>104 rows × 14 columns</p>\n",
       "</div>"
      ],
      "text/plain": [
       "           Id_comp   Vendedor  \\\n",
       "0    MLM2681736612  CNFUBBMXF   \n",
       "1    MLM2681736612  CNFUBBMXF   \n",
       "2    MLM2681736612  CNFUBBMXF   \n",
       "3    MLM2681736612  CNFUBBMXF   \n",
       "4    MLM2681736612  CNFUBBMXF   \n",
       "..             ...        ...   \n",
       "102  MLM2706696058  CNFUBBMXF   \n",
       "103  MLM2706696058  CNFUBBMXF   \n",
       "104  MLM2706696058  CNFUBBMXF   \n",
       "105  MLM2706696058  CNFUBBMXF   \n",
       "106  MLM2706696058  CNFUBBMXF   \n",
       "\n",
       "                                                Título  Precio_comp  \\\n",
       "0    Alternador Volkswagen Vw Vocho, Beetle, Sedán,...      1285.46   \n",
       "1    Alternador Volkswagen Vw Vocho, Beetle, Sedán,...      1285.46   \n",
       "2    Alternador Volkswagen Vw Vocho, Beetle, Sedán,...      1285.46   \n",
       "3    Alternador Volkswagen Vw Vocho, Beetle, Sedán,...      1285.46   \n",
       "4    Alternador Volkswagen Vw Vocho, Beetle, Sedán,...      1285.46   \n",
       "..                                                 ...          ...   \n",
       "102  Marcha Para Ford Courier Fiesta 2001-2012 Ikon...      1389.21   \n",
       "103  Marcha Para Ford Courier Fiesta 2001-2012 Ikon...      1389.21   \n",
       "104  Marcha Para Ford Courier Fiesta 2001-2012 Ikon...      1389.21   \n",
       "105  Marcha Para Ford Courier Fiesta 2001-2012 Ikon...      1389.21   \n",
       "106  Marcha Para Ford Courier Fiesta 2001-2012 Ikon...      1389.21   \n",
       "\n",
       "     Precio_nuestro     Id_nuestro         Canal          SKU  \\\n",
       "0            1401.0  MLM1938567861  MercadoLibre   ALT-B13080   \n",
       "1            1401.0  MLM1938568155  MercadoLibre   ALT-B13080   \n",
       "2            1401.0  MLM1938568183  MercadoLibre   ALT-B13080   \n",
       "3            1401.0  MLM2011473197  MercadoLibre   ALT-B13080   \n",
       "4            1401.0  MLM2440224770  MercadoLibre   ALT-B13080   \n",
       "..              ...            ...           ...          ...   \n",
       "102          1805.0   MLM887050317  MercadoLibre  MAR-V438180   \n",
       "103          1805.0   MLM887050320  MercadoLibre  MAR-V438180   \n",
       "104          1805.0   MLM887050323  MercadoLibre  MAR-V438180   \n",
       "105          1805.0   MLM887050326  MercadoLibre  MAR-V438180   \n",
       "106          1805.0  MLM2011382713         Ambos  MAR-V438180   \n",
       "\n",
       "     Negocio_Mayor_Competencia  Precio_Sugerido  Comision_MercadoLibre  \\\n",
       "0                         True        1272.6054             485.525758   \n",
       "1                         True        1272.6054             485.525758   \n",
       "2                         True        1272.6054             485.525758   \n",
       "3                         True        1272.6054             485.525758   \n",
       "4                         True        1272.6054             485.525758   \n",
       "..                         ...              ...                    ...   \n",
       "102                       True        1375.3179             517.448803   \n",
       "103                       True        1375.3179             517.448803   \n",
       "104                       True        1375.3179             517.448803   \n",
       "105                       True        1375.3179             517.448803   \n",
       "106                       True        1375.3179             517.448803   \n",
       "\n",
       "     COSTO_PROM  Utilidad_en_pesos  Utilidad_Porcentaje  \n",
       "0       687.062         100.017642             7.859282  \n",
       "1       687.062         100.017642             7.859282  \n",
       "2       687.062         100.017642             7.859282  \n",
       "3       687.062         100.017642             7.859282  \n",
       "4       687.062         100.017642             7.859282  \n",
       "..          ...                ...                  ...  \n",
       "102     656.092         201.777097            14.671306  \n",
       "103     656.092         201.777097            14.671306  \n",
       "104     656.092         201.777097            14.671306  \n",
       "105     656.092         201.777097            14.671306  \n",
       "106     656.092         201.777097            14.671306  \n",
       "\n",
       "[104 rows x 14 columns]"
      ]
     },
     "execution_count": 63,
     "metadata": {},
     "output_type": "execute_result"
    }
   ],
   "source": [
    "r_precio_mayor_filtrado\n"
   ]
  },
  {
   "cell_type": "markdown",
   "metadata": {},
   "source": [
    "Sacamos la utilidad del costo del producto con el nuevo precio sugerido"
   ]
  },
  {
   "cell_type": "markdown",
   "metadata": {},
   "source": [
    "Filtros 2\n"
   ]
  },
  {
   "cell_type": "code",
   "execution_count": 64,
   "metadata": {},
   "outputs": [],
   "source": [
    "# Filtrar compe_compa para obtener solo los registros donde el precio cambió de un día a otro\n",
    "precios_true_2 = compe_compa[compe_compa['Cambio_Precio']]\n",
    "\n",
    "# Unir precios_true con negocio_bd en base a la columna 'Referencia'\n",
    "compe_vs_negocio_2 = precios_true_2.merge(negocio_bd[['Referencia', 'Precio', 'Id', 'Canal', 'SKU']], on='Referencia', how='inner')\n",
    "\n",
    "# Crear una columna para verificar si el precio del negocio es menor que el de la competencia (Precio_Dia2)\n",
    "compe_vs_negocio_2['Negocio_Menor_Competencia'] = compe_vs_negocio_2['Precio'] < compe_vs_negocio_2['Precio_Dia2']\n",
    "\n",
    "# Filtrar solo los casos donde el precio del negocio es menor\n",
    "menores_negocio = compe_vs_negocio_2[compe_vs_negocio_2['Negocio_Menor_Competencia']]\n"
   ]
  },
  {
   "cell_type": "code",
   "execution_count": 65,
   "metadata": {},
   "outputs": [
    {
     "name": "stderr",
     "output_type": "stream",
     "text": [
      "C:\\Users\\dell\\AppData\\Local\\Temp\\ipykernel_10620\\1802238037.py:1: SettingWithCopyWarning: \n",
      "A value is trying to be set on a copy of a slice from a DataFrame\n",
      "\n",
      "See the caveats in the documentation: https://pandas.pydata.org/pandas-docs/stable/user_guide/indexing.html#returning-a-view-versus-a-copy\n",
      "  menores_negocio.rename(columns={\"Id_x\": \"Id_comp\", \"Precio_Dia2\": \"Precio_comp\", \"Precio\": \"Precio_nuestro\", \"Id_y\": \"Id_nuestro\" }, inplace=True)\n"
     ]
    }
   ],
   "source": [
    "menores_negocio.rename(columns={\"Id_x\": \"Id_comp\", \"Precio_Dia2\": \"Precio_comp\", \"Precio\": \"Precio_nuestro\", \"Id_y\": \"Id_nuestro\" }, inplace=True)"
   ]
  },
  {
   "cell_type": "code",
   "execution_count": 66,
   "metadata": {},
   "outputs": [
    {
     "name": "stderr",
     "output_type": "stream",
     "text": [
      "C:\\Users\\dell\\AppData\\Local\\Temp\\ipykernel_10620\\2882090104.py:2: SettingWithCopyWarning: \n",
      "A value is trying to be set on a copy of a slice from a DataFrame.\n",
      "Try using .loc[row_indexer,col_indexer] = value instead\n",
      "\n",
      "See the caveats in the documentation: https://pandas.pydata.org/pandas-docs/stable/user_guide/indexing.html#returning-a-view-versus-a-copy\n",
      "  menores_negocio['Precio_Sugerido'] = menores_negocio['Precio_comp'] * 0.99\n"
     ]
    }
   ],
   "source": [
    "# Calcular el nuevo precio sugerido multiplicando por 0.99\n",
    "menores_negocio['Precio_Sugerido'] = menores_negocio['Precio_comp'] * 0.99"
   ]
  },
  {
   "cell_type": "markdown",
   "metadata": {},
   "source": [
    "Agregar columna con desglose de mercado libre comisiones\n"
   ]
  },
  {
   "cell_type": "code",
   "execution_count": 67,
   "metadata": {},
   "outputs": [
    {
     "name": "stderr",
     "output_type": "stream",
     "text": [
      "C:\\Users\\dell\\AppData\\Local\\Temp\\ipykernel_10620\\1076637241.py:2: SettingWithCopyWarning: \n",
      "A value is trying to be set on a copy of a slice from a DataFrame.\n",
      "Try using .loc[row_indexer,col_indexer] = value instead\n",
      "\n",
      "See the caveats in the documentation: https://pandas.pydata.org/pandas-docs/stable/user_guide/indexing.html#returning-a-view-versus-a-copy\n",
      "  menores_negocio['Comision_MercadoLibre'] = (menores_negocio['Precio_Sugerido'] * (iva * isr - 1)) + envio\n"
     ]
    }
   ],
   "source": [
    "# Calcular únicamente la comisión total de Mercado Libre\n",
    "menores_negocio['Comision_MercadoLibre'] = (menores_negocio['Precio_Sugerido'] * (iva * isr - 1)) + envio"
   ]
  },
  {
   "cell_type": "code",
   "execution_count": 68,
   "metadata": {},
   "outputs": [
    {
     "data": {
      "text/html": [
       "<div>\n",
       "<style scoped>\n",
       "    .dataframe tbody tr th:only-of-type {\n",
       "        vertical-align: middle;\n",
       "    }\n",
       "\n",
       "    .dataframe tbody tr th {\n",
       "        vertical-align: top;\n",
       "    }\n",
       "\n",
       "    .dataframe thead th {\n",
       "        text-align: right;\n",
       "    }\n",
       "</style>\n",
       "<table border=\"1\" class=\"dataframe\">\n",
       "  <thead>\n",
       "    <tr style=\"text-align: right;\">\n",
       "      <th></th>\n",
       "      <th>Id_comp</th>\n",
       "      <th>Vendedor</th>\n",
       "      <th>Título</th>\n",
       "      <th>Precio_Dia1</th>\n",
       "      <th>Estado</th>\n",
       "      <th>Referencia</th>\n",
       "      <th>Precio_comp</th>\n",
       "      <th>Cambio_Precio</th>\n",
       "      <th>Precio_nuestro</th>\n",
       "      <th>Id_nuestro</th>\n",
       "      <th>Canal</th>\n",
       "      <th>SKU</th>\n",
       "      <th>Negocio_Menor_Competencia</th>\n",
       "      <th>Precio_Sugerido</th>\n",
       "      <th>Comision_MercadoLibre</th>\n",
       "    </tr>\n",
       "  </thead>\n",
       "  <tbody>\n",
       "    <tr>\n",
       "      <th>4</th>\n",
       "      <td>MLM2681736612</td>\n",
       "      <td>CNFUBBMXF</td>\n",
       "      <td>Alternador Volkswagen Vw Vocho, Beetle, Sedán,...</td>\n",
       "      <td>110.00</td>\n",
       "      <td>Pausada</td>\n",
       "      <td>13080</td>\n",
       "      <td>1285.46</td>\n",
       "      <td>True</td>\n",
       "      <td>1190.85</td>\n",
       "      <td>MLM2016168873</td>\n",
       "      <td>MercadoLibre</td>\n",
       "      <td>ALT-B13080</td>\n",
       "      <td>True</td>\n",
       "      <td>1272.6054</td>\n",
       "      <td>485.525758</td>\n",
       "    </tr>\n",
       "    <tr>\n",
       "      <th>37</th>\n",
       "      <td>MLM1866875061</td>\n",
       "      <td>CIOSA AUTOPARTES</td>\n",
       "      <td>Alternador Cr-v 2.4 2002 2003 2004 2005 2006</td>\n",
       "      <td>2948.19</td>\n",
       "      <td>Activa</td>\n",
       "      <td>13966</td>\n",
       "      <td>2963.00</td>\n",
       "      <td>True</td>\n",
       "      <td>2234.00</td>\n",
       "      <td>MLM3284031160</td>\n",
       "      <td>MercadoLibre</td>\n",
       "      <td>ALT-M13966</td>\n",
       "      <td>True</td>\n",
       "      <td>2933.3700</td>\n",
       "      <td>1001.691396</td>\n",
       "    </tr>\n",
       "    <tr>\n",
       "      <th>38</th>\n",
       "      <td>MLM1866875061</td>\n",
       "      <td>CIOSA AUTOPARTES</td>\n",
       "      <td>Alternador Cr-v 2.4 2002 2003 2004 2005 2006</td>\n",
       "      <td>2948.19</td>\n",
       "      <td>Activa</td>\n",
       "      <td>13966</td>\n",
       "      <td>2963.00</td>\n",
       "      <td>True</td>\n",
       "      <td>2234.00</td>\n",
       "      <td>MLM3284108880</td>\n",
       "      <td>MercadoLibre</td>\n",
       "      <td>ALT-M13966</td>\n",
       "      <td>True</td>\n",
       "      <td>2933.3700</td>\n",
       "      <td>1001.691396</td>\n",
       "    </tr>\n",
       "  </tbody>\n",
       "</table>\n",
       "</div>"
      ],
      "text/plain": [
       "          Id_comp          Vendedor  \\\n",
       "4   MLM2681736612         CNFUBBMXF   \n",
       "37  MLM1866875061  CIOSA AUTOPARTES   \n",
       "38  MLM1866875061  CIOSA AUTOPARTES   \n",
       "\n",
       "                                               Título  Precio_Dia1   Estado  \\\n",
       "4   Alternador Volkswagen Vw Vocho, Beetle, Sedán,...       110.00  Pausada   \n",
       "37       Alternador Cr-v 2.4 2002 2003 2004 2005 2006      2948.19   Activa   \n",
       "38       Alternador Cr-v 2.4 2002 2003 2004 2005 2006      2948.19   Activa   \n",
       "\n",
       "   Referencia  Precio_comp  Cambio_Precio  Precio_nuestro     Id_nuestro  \\\n",
       "4       13080      1285.46           True         1190.85  MLM2016168873   \n",
       "37      13966      2963.00           True         2234.00  MLM3284031160   \n",
       "38      13966      2963.00           True         2234.00  MLM3284108880   \n",
       "\n",
       "           Canal         SKU  Negocio_Menor_Competencia  Precio_Sugerido  \\\n",
       "4   MercadoLibre  ALT-B13080                       True        1272.6054   \n",
       "37  MercadoLibre  ALT-M13966                       True        2933.3700   \n",
       "38  MercadoLibre  ALT-M13966                       True        2933.3700   \n",
       "\n",
       "    Comision_MercadoLibre  \n",
       "4              485.525758  \n",
       "37            1001.691396  \n",
       "38            1001.691396  "
      ]
     },
     "execution_count": 68,
     "metadata": {},
     "output_type": "execute_result"
    }
   ],
   "source": [
    "menores_negocio"
   ]
  },
  {
   "cell_type": "markdown",
   "metadata": {},
   "source": [
    "Agregamos la utilidad del producto con el nuevo precio sugerido"
   ]
  },
  {
   "cell_type": "code",
   "execution_count": 69,
   "metadata": {},
   "outputs": [],
   "source": [
    "# Realizar un merge en base a la columna SKU\n",
    "r_precio_menor = pd.merge(menores_negocio, prom, on='SKU', how='left')\n",
    "\n",
    "# Calcular la utilidad\n",
    "r_precio_menor['Utilidad_en_pesos'] = r_precio_menor['Precio_Sugerido'] - r_precio_menor['Comision_MercadoLibre'] - r_precio_menor['COSTO_PROM']\n",
    "\n",
    "# Opcional: Calcular el porcentaje de utilidad sobre el precio final\n",
    "r_precio_menor['Utilidad_Porcentaje'] = (r_precio_menor['Utilidad_en_pesos'] / r_precio_menor['Precio_Sugerido']) * 100"
   ]
  },
  {
   "cell_type": "markdown",
   "metadata": {},
   "source": [
    "Agregamos otro DataFrame con un nuevo formato que será el formato Requerido por Delatsa"
   ]
  },
  {
   "cell_type": "code",
   "execution_count": 70,
   "metadata": {},
   "outputs": [],
   "source": [
    "r_precio_menor_formato = r_precio_menor[['Id_nuestro', 'Precio_Sugerido', 'Precio_nuestro' ]].copy()\n",
    "r_precio_menor_formato['Oferta_Revisada'] = None\n",
    "r_precio_menor_formato['Precio_Exclusivo_Meli_'] = \" \" "
   ]
  },
  {
   "cell_type": "code",
   "execution_count": 71,
   "metadata": {},
   "outputs": [],
   "source": [
    "columna_mover = r_precio_menor_formato.pop('Oferta_Revisada')\n",
    "r_precio_menor_formato.insert(2, 'Oferta_Revisada', columna_mover)\n",
    "r_precio_menor_formato['Precio_Exclusivo_Meli_'] = \" \" "
   ]
  },
  {
   "cell_type": "code",
   "execution_count": 72,
   "metadata": {},
   "outputs": [
    {
     "data": {
      "text/html": [
       "<div>\n",
       "<style scoped>\n",
       "    .dataframe tbody tr th:only-of-type {\n",
       "        vertical-align: middle;\n",
       "    }\n",
       "\n",
       "    .dataframe tbody tr th {\n",
       "        vertical-align: top;\n",
       "    }\n",
       "\n",
       "    .dataframe thead th {\n",
       "        text-align: right;\n",
       "    }\n",
       "</style>\n",
       "<table border=\"1\" class=\"dataframe\">\n",
       "  <thead>\n",
       "    <tr style=\"text-align: right;\">\n",
       "      <th></th>\n",
       "      <th>Id_nuestro</th>\n",
       "      <th>Precio_Sugerido</th>\n",
       "      <th>Oferta_Revisada</th>\n",
       "      <th>Precio_nuestro</th>\n",
       "      <th>Precio_Exclusivo_Meli_</th>\n",
       "    </tr>\n",
       "  </thead>\n",
       "  <tbody>\n",
       "    <tr>\n",
       "      <th>0</th>\n",
       "      <td>MLM2016168873</td>\n",
       "      <td>1272.6054</td>\n",
       "      <td>None</td>\n",
       "      <td>1190.85</td>\n",
       "      <td></td>\n",
       "    </tr>\n",
       "    <tr>\n",
       "      <th>1</th>\n",
       "      <td>MLM3284031160</td>\n",
       "      <td>2933.3700</td>\n",
       "      <td>None</td>\n",
       "      <td>2234.00</td>\n",
       "      <td></td>\n",
       "    </tr>\n",
       "    <tr>\n",
       "      <th>2</th>\n",
       "      <td>MLM3284108880</td>\n",
       "      <td>2933.3700</td>\n",
       "      <td>None</td>\n",
       "      <td>2234.00</td>\n",
       "      <td></td>\n",
       "    </tr>\n",
       "  </tbody>\n",
       "</table>\n",
       "</div>"
      ],
      "text/plain": [
       "      Id_nuestro  Precio_Sugerido Oferta_Revisada  Precio_nuestro  \\\n",
       "0  MLM2016168873        1272.6054            None         1190.85   \n",
       "1  MLM3284031160        2933.3700            None         2234.00   \n",
       "2  MLM3284108880        2933.3700            None         2234.00   \n",
       "\n",
       "  Precio_Exclusivo_Meli_  \n",
       "0                         \n",
       "1                         \n",
       "2                         "
      ]
     },
     "execution_count": 72,
     "metadata": {},
     "output_type": "execute_result"
    }
   ],
   "source": [
    "r_precio_menor_formato"
   ]
  },
  {
   "cell_type": "markdown",
   "metadata": {},
   "source": [
    "Sacamos la utilidad del costo"
   ]
  },
  {
   "cell_type": "code",
   "execution_count": 73,
   "metadata": {},
   "outputs": [],
   "source": [
    "# Filtrar el dataframe para que solo incluya filas donde 'Utilidad' es mayor o igual a cero\n",
    "r_precio_menor_filtrado = r_precio_menor[r_precio_menor['Utilidad_en_pesos'] >= 0]"
   ]
  },
  {
   "cell_type": "code",
   "execution_count": 74,
   "metadata": {},
   "outputs": [
    {
     "data": {
      "text/html": [
       "<div>\n",
       "<style scoped>\n",
       "    .dataframe tbody tr th:only-of-type {\n",
       "        vertical-align: middle;\n",
       "    }\n",
       "\n",
       "    .dataframe tbody tr th {\n",
       "        vertical-align: top;\n",
       "    }\n",
       "\n",
       "    .dataframe thead th {\n",
       "        text-align: right;\n",
       "    }\n",
       "</style>\n",
       "<table border=\"1\" class=\"dataframe\">\n",
       "  <thead>\n",
       "    <tr style=\"text-align: right;\">\n",
       "      <th></th>\n",
       "      <th>Id_comp</th>\n",
       "      <th>Vendedor</th>\n",
       "      <th>Título</th>\n",
       "      <th>Precio_Dia1</th>\n",
       "      <th>Estado</th>\n",
       "      <th>Referencia</th>\n",
       "      <th>Precio_comp</th>\n",
       "      <th>Cambio_Precio</th>\n",
       "      <th>Precio_nuestro</th>\n",
       "      <th>Id_nuestro</th>\n",
       "      <th>Canal</th>\n",
       "      <th>SKU</th>\n",
       "      <th>Negocio_Menor_Competencia</th>\n",
       "      <th>Precio_Sugerido</th>\n",
       "      <th>Comision_MercadoLibre</th>\n",
       "      <th>COSTO_PROM</th>\n",
       "      <th>Utilidad_en_pesos</th>\n",
       "      <th>Utilidad_Porcentaje</th>\n",
       "    </tr>\n",
       "  </thead>\n",
       "  <tbody>\n",
       "    <tr>\n",
       "      <th>0</th>\n",
       "      <td>MLM2681736612</td>\n",
       "      <td>CNFUBBMXF</td>\n",
       "      <td>Alternador Volkswagen Vw Vocho, Beetle, Sedán,...</td>\n",
       "      <td>110.00</td>\n",
       "      <td>Pausada</td>\n",
       "      <td>13080</td>\n",
       "      <td>1285.46</td>\n",
       "      <td>True</td>\n",
       "      <td>1190.85</td>\n",
       "      <td>MLM2016168873</td>\n",
       "      <td>MercadoLibre</td>\n",
       "      <td>ALT-B13080</td>\n",
       "      <td>True</td>\n",
       "      <td>1272.6054</td>\n",
       "      <td>485.525758</td>\n",
       "      <td>687.062</td>\n",
       "      <td>100.017642</td>\n",
       "      <td>7.859282</td>\n",
       "    </tr>\n",
       "    <tr>\n",
       "      <th>1</th>\n",
       "      <td>MLM1866875061</td>\n",
       "      <td>CIOSA AUTOPARTES</td>\n",
       "      <td>Alternador Cr-v 2.4 2002 2003 2004 2005 2006</td>\n",
       "      <td>2948.19</td>\n",
       "      <td>Activa</td>\n",
       "      <td>13966</td>\n",
       "      <td>2963.00</td>\n",
       "      <td>True</td>\n",
       "      <td>2234.00</td>\n",
       "      <td>MLM3284031160</td>\n",
       "      <td>MercadoLibre</td>\n",
       "      <td>ALT-M13966</td>\n",
       "      <td>True</td>\n",
       "      <td>2933.3700</td>\n",
       "      <td>1001.691396</td>\n",
       "      <td>959.266</td>\n",
       "      <td>972.412604</td>\n",
       "      <td>33.150015</td>\n",
       "    </tr>\n",
       "    <tr>\n",
       "      <th>2</th>\n",
       "      <td>MLM1866875061</td>\n",
       "      <td>CIOSA AUTOPARTES</td>\n",
       "      <td>Alternador Cr-v 2.4 2002 2003 2004 2005 2006</td>\n",
       "      <td>2948.19</td>\n",
       "      <td>Activa</td>\n",
       "      <td>13966</td>\n",
       "      <td>2963.00</td>\n",
       "      <td>True</td>\n",
       "      <td>2234.00</td>\n",
       "      <td>MLM3284108880</td>\n",
       "      <td>MercadoLibre</td>\n",
       "      <td>ALT-M13966</td>\n",
       "      <td>True</td>\n",
       "      <td>2933.3700</td>\n",
       "      <td>1001.691396</td>\n",
       "      <td>959.266</td>\n",
       "      <td>972.412604</td>\n",
       "      <td>33.150015</td>\n",
       "    </tr>\n",
       "  </tbody>\n",
       "</table>\n",
       "</div>"
      ],
      "text/plain": [
       "         Id_comp          Vendedor  \\\n",
       "0  MLM2681736612         CNFUBBMXF   \n",
       "1  MLM1866875061  CIOSA AUTOPARTES   \n",
       "2  MLM1866875061  CIOSA AUTOPARTES   \n",
       "\n",
       "                                              Título  Precio_Dia1   Estado  \\\n",
       "0  Alternador Volkswagen Vw Vocho, Beetle, Sedán,...       110.00  Pausada   \n",
       "1       Alternador Cr-v 2.4 2002 2003 2004 2005 2006      2948.19   Activa   \n",
       "2       Alternador Cr-v 2.4 2002 2003 2004 2005 2006      2948.19   Activa   \n",
       "\n",
       "  Referencia  Precio_comp  Cambio_Precio  Precio_nuestro     Id_nuestro  \\\n",
       "0      13080      1285.46           True         1190.85  MLM2016168873   \n",
       "1      13966      2963.00           True         2234.00  MLM3284031160   \n",
       "2      13966      2963.00           True         2234.00  MLM3284108880   \n",
       "\n",
       "          Canal         SKU  Negocio_Menor_Competencia  Precio_Sugerido  \\\n",
       "0  MercadoLibre  ALT-B13080                       True        1272.6054   \n",
       "1  MercadoLibre  ALT-M13966                       True        2933.3700   \n",
       "2  MercadoLibre  ALT-M13966                       True        2933.3700   \n",
       "\n",
       "   Comision_MercadoLibre  COSTO_PROM  Utilidad_en_pesos  Utilidad_Porcentaje  \n",
       "0             485.525758     687.062         100.017642             7.859282  \n",
       "1            1001.691396     959.266         972.412604            33.150015  \n",
       "2            1001.691396     959.266         972.412604            33.150015  "
      ]
     },
     "execution_count": 74,
     "metadata": {},
     "output_type": "execute_result"
    }
   ],
   "source": [
    "r_precio_menor"
   ]
  },
  {
   "cell_type": "markdown",
   "metadata": {},
   "source": [
    "Archivo con formato solicitado por Delatsa"
   ]
  },
  {
   "cell_type": "code",
   "execution_count": 75,
   "metadata": {},
   "outputs": [
    {
     "name": "stdout",
     "output_type": "stream",
     "text": [
      "Archivo Excel creado o actualizado con éxito.\n"
     ]
    }
   ],
   "source": [
    "file = 'resultados_formato_delatsa.xlsx'\n",
    "\n",
    "with pd.ExcelWriter(file, engine='openpyxl', mode='w') as writer:\n",
    "    r_precio_mayor_formato.to_excel(writer, sheet_name='precios_mayores', index=False)\n",
    "\n",
    "    r_precio_menor_formato.to_excel(writer, sheet_name='precios_menores', index=False)\n",
    "\n",
    "print(\"Archivo Excel creado o actualizado con éxito.\")"
   ]
  },
  {
   "cell_type": "markdown",
   "metadata": {},
   "source": [
    "Archivo 'resultados' con los Resultados en Excel"
   ]
  },
  {
   "cell_type": "code",
   "execution_count": 76,
   "metadata": {},
   "outputs": [
    {
     "name": "stdout",
     "output_type": "stream",
     "text": [
      "Archivo Excel creado o actualizado con éxito.\n"
     ]
    }
   ],
   "source": [
    "# Ruta donde se guardará el archivo Excel (reemplazando si ya existe)\n",
    "file = 'resultados.xlsx'\n",
    "\n",
    "# Crear el archivo Excel nuevo o sobrescribir el existente\n",
    "with pd.ExcelWriter(file, engine='openpyxl', mode='w') as writer:\n",
    "    # Exportar resultados de 'mayores_negocio' a la primera hoja (reemplaza si existe)\n",
    "    r_precio_mayor.to_excel(writer, sheet_name='mayor_precio', index=False)\n",
    "    \n",
    "    # Exportar resultados de 'r_precio_menor' a la segunda hoja (reemplaza si existe)\n",
    "    r_precio_menor.to_excel(writer, sheet_name='menor_precio', index=False)\n",
    "\n",
    "print(\"Archivo Excel creado o actualizado con éxito.\")"
   ]
  },
  {
   "cell_type": "markdown",
   "metadata": {},
   "source": [
    "Archivo 'cambio_de_precio' para cambiar precio"
   ]
  },
  {
   "cell_type": "code",
   "execution_count": 77,
   "metadata": {},
   "outputs": [
    {
     "name": "stdout",
     "output_type": "stream",
     "text": [
      "Archivo Excel creado o actualizado con éxito.\n"
     ]
    }
   ],
   "source": [
    "# Ruta donde se guardará el archivo Excel (reemplazando si ya existe)\n",
    "file_path = 'cambio_de_precio.xlsx'\n",
    "\n",
    "# Crear el archivo Excel nuevo o sobrescribir el existente\n",
    "with pd.ExcelWriter(file_path, engine='openpyxl', mode='w') as writer:\n",
    "    # Exportar la columna 'Id_nuestro' de 'mayores_negocio' a la primera hoja (reemplaza si existe)\n",
    "    r_precio_mayor_filtrado[['Id_nuestro', 'SKU']].to_excel(writer, sheet_name='mayor_precio', index=False)\n",
    "    \n",
    "    # Exportar la columna 'Id_nuestro' de 'menores_negocio' a la segunda hoja (reemplaza si existe)\n",
    "    r_precio_menor_filtrado[['Id_nuestro', 'SKU']].to_excel(writer, sheet_name='menor_precio', index=False)\n",
    "\n",
    "print(\"Archivo Excel creado o actualizado con éxito.\")"
   ]
  }
 ],
 "metadata": {
  "kernelspec": {
   "display_name": "Python 3",
   "language": "python",
   "name": "python3"
  },
  "language_info": {
   "codemirror_mode": {
    "name": "ipython",
    "version": 3
   },
   "file_extension": ".py",
   "mimetype": "text/x-python",
   "name": "python",
   "nbconvert_exporter": "python",
   "pygments_lexer": "ipython3",
   "version": "3.12.3"
  }
 },
 "nbformat": 4,
 "nbformat_minor": 2
}
